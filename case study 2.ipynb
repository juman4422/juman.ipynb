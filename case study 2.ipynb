#!/usr/bin/env python
# coding: utf-8

# In[91]:


import pandas as pd
import numpy as np


# In[92]:


data=pd.read_csv(r'Downloads\StudentsPerformance.csv')
data.head()


# In[93]:


df=pd.DataFrame(data)
df


# # 1. Find out how many males and females participated in the test.

# In[94]:


df['gender'].value_counts()


# # 2. What do you think about the students' parental level of education?

# In[95]:


import statistics


# In[96]:


df.groupby('parental level of education')['parental level of education'].count()


# In[97]:


df[['parental level of education']].describe()


# # 3. Who scores the most on average for math, reading and writing based on a)Gender

# In[98]:


df1=pd.DataFrame(data,columns=['gender','math score','reading score','writing score'])
df2=df1.groupby('gender').mean()
df2


# # b)Test preparation course

# In[99]:


df3=pd.DataFrame(data,columns=['test preparation course','math score','reading score','writing score'])
df4=df3.groupby('test preparation course').mean()
df4


# # 4. What do you think about the scoring variation for math, reading and writing based on
# 

# # a)Gender

# In[100]:


df1[['gender','math score','reading score','writing score']].groupby('gender').var()


# # b)Test preparation course

# In[101]:


df3[['test preparation course','math score','reading score','writing score']].groupby('test preparation course').var()


# # 5. The management needs your help to give bonus points to the top 25% of students based on their maths score, so how will you help the management to achieve this.

# In[102]:


df.nlargest(250,['math score'])


#                                      inferences
# 1.482 males and 518 females are participated in the survey.
# 2.About the"parental level of education",most of the parents have 'some degree' and followed by 'Associates degree' and       'High school'.
# 3.Based on Gender, male have most average math score of 68.82 and female have the most average reading score of 72.59 and
#   female have the most average writing score of 74.68.
# 4.Test preparation course completed students have the most average marks in all the subjects.
# 5.Females had better scoring variance in math,reading and writing based on gender.
# 5.Those who gave the test preparation entry as none had a better scoring variation in math,reading and writing.
# 6.Among the 1000 students ,250 of them are eligible for a bonus points based on their math score and their details have been obtained.
